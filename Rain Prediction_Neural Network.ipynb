{
 "cells": [
  {
   "cell_type": "code",
   "execution_count": 23,
   "metadata": {
    "colab": {
     "base_uri": "https://localhost:8080/"
    },
    "id": "mEGZdrhb7svR",
    "outputId": "b6c36b93-4cba-465a-9fdf-fd3a8f7a303c"
   },
   "outputs": [
    {
     "name": "stdout",
     "output_type": "stream",
     "text": [
      "/content\n"
     ]
    }
   ],
   "source": [
    "import os\n",
    "print (os.getcwd())"
   ]
  },
  {
   "cell_type": "code",
   "execution_count": 8,
   "metadata": {
    "id": "7XCzDhru8Vjw"
   },
   "outputs": [],
   "source": [
    "import os\n",
    "import torch\n",
    "import numpy as np\n",
    "import pandas as pd\n",
    "import seaborn as sns\n",
    "from torch import nn, optim\n",
    "from datetime import datetime\n",
    "import matplotlib.pyplot as plt\n",
    "from sklearn import preprocessing\n",
    "import torch.nn.functional as func\n",
    "from sklearn.preprocessing import LabelEncoder\n",
    "from sklearn.model_selection import train_test_split\n",
    "from sklearn.metrics import confusion_matrix, classification_report"
   ]
  },
  {
   "cell_type": "code",
   "execution_count": 13,
   "metadata": {
    "id": "Jf1ErfAB9aqo"
   },
   "outputs": [],
   "source": [
    "%matplotlib inline"
   ]
  },
  {
   "cell_type": "code",
   "execution_count": 105,
   "metadata": {
    "id": "RPyxOQ3A8Y1m"
   },
   "outputs": [],
   "source": [
    "df=pd.read_csv(\"weather.csv\")"
   ]
  },
  {
   "cell_type": "code",
   "execution_count": 106,
   "metadata": {
    "colab": {
     "base_uri": "https://localhost:8080/"
    },
    "id": "0sRXKF5A8Y3W",
    "outputId": "a9258b24-a58e-452e-97a9-f37bf97b7502"
   },
   "outputs": [
    {
     "data": {
      "text/plain": [
       "<bound method DataFrame.info of               Date Location  MinTemp  MaxTemp  Rainfall  Evaporation  \\\n",
       "0       2008-12-01   Albury     13.4     22.9       0.6          NaN   \n",
       "1       2008-12-02   Albury      7.4     25.1       0.0          NaN   \n",
       "2       2008-12-03   Albury     12.9     25.7       0.0          NaN   \n",
       "3       2008-12-04   Albury      9.2     28.0       0.0          NaN   \n",
       "4       2008-12-05   Albury     17.5     32.3       1.0          NaN   \n",
       "...            ...      ...      ...      ...       ...          ...   \n",
       "145455  2017-06-21    Uluru      2.8     23.4       0.0          NaN   \n",
       "145456  2017-06-22    Uluru      3.6     25.3       0.0          NaN   \n",
       "145457  2017-06-23    Uluru      5.4     26.9       0.0          NaN   \n",
       "145458  2017-06-24    Uluru      7.8     27.0       0.0          NaN   \n",
       "145459  2017-06-25    Uluru     14.9      NaN       0.0          NaN   \n",
       "\n",
       "        Sunshine WindGustDir  WindGustSpeed WindDir9am  ... Humidity9am  \\\n",
       "0            NaN           W           44.0          W  ...        71.0   \n",
       "1            NaN         WNW           44.0        NNW  ...        44.0   \n",
       "2            NaN         WSW           46.0          W  ...        38.0   \n",
       "3            NaN          NE           24.0         SE  ...        45.0   \n",
       "4            NaN           W           41.0        ENE  ...        82.0   \n",
       "...          ...         ...            ...        ...  ...         ...   \n",
       "145455       NaN           E           31.0         SE  ...        51.0   \n",
       "145456       NaN         NNW           22.0         SE  ...        56.0   \n",
       "145457       NaN           N           37.0         SE  ...        53.0   \n",
       "145458       NaN          SE           28.0        SSE  ...        51.0   \n",
       "145459       NaN         NaN            NaN        ESE  ...        62.0   \n",
       "\n",
       "        Humidity3pm  Pressure9am  Pressure3pm  Cloud9am  Cloud3pm  Temp9am  \\\n",
       "0              22.0       1007.7       1007.1       8.0       NaN     16.9   \n",
       "1              25.0       1010.6       1007.8       NaN       NaN     17.2   \n",
       "2              30.0       1007.6       1008.7       NaN       2.0     21.0   \n",
       "3              16.0       1017.6       1012.8       NaN       NaN     18.1   \n",
       "4              33.0       1010.8       1006.0       7.0       8.0     17.8   \n",
       "...             ...          ...          ...       ...       ...      ...   \n",
       "145455         24.0       1024.6       1020.3       NaN       NaN     10.1   \n",
       "145456         21.0       1023.5       1019.1       NaN       NaN     10.9   \n",
       "145457         24.0       1021.0       1016.8       NaN       NaN     12.5   \n",
       "145458         24.0       1019.4       1016.5       3.0       2.0     15.1   \n",
       "145459         36.0       1020.2       1017.9       8.0       8.0     15.0   \n",
       "\n",
       "        Temp3pm  RainToday  RainTomorrow  \n",
       "0          21.8         No            No  \n",
       "1          24.3         No            No  \n",
       "2          23.2         No            No  \n",
       "3          26.5         No            No  \n",
       "4          29.7         No            No  \n",
       "...         ...        ...           ...  \n",
       "145455     22.4         No            No  \n",
       "145456     24.5         No            No  \n",
       "145457     26.1         No            No  \n",
       "145458     26.0         No            No  \n",
       "145459     20.9         No           NaN  \n",
       "\n",
       "[145460 rows x 23 columns]>"
      ]
     },
     "execution_count": 106,
     "metadata": {},
     "output_type": "execute_result"
    }
   ],
   "source": [
    "df.info"
   ]
  },
  {
   "cell_type": "code",
   "execution_count": 107,
   "metadata": {
    "colab": {
     "base_uri": "https://localhost:8080/"
    },
    "id": "7dt6eGYq8Y5J",
    "outputId": "25e162d7-c19f-457a-c500-42c7df55aeb9"
   },
   "outputs": [
    {
     "data": {
      "text/plain": [
       "(145460, 23)"
      ]
     },
     "execution_count": 107,
     "metadata": {},
     "output_type": "execute_result"
    }
   ],
   "source": [
    "df.shape"
   ]
  },
  {
   "cell_type": "code",
   "execution_count": 108,
   "metadata": {
    "colab": {
     "base_uri": "https://localhost:8080/"
    },
    "id": "3js-0WPR8Y7L",
    "outputId": "6eb2fffe-278f-4b7e-be8f-d74f0a15f123"
   },
   "outputs": [
    {
     "data": {
      "text/plain": [
       "Date                 0\n",
       "Location             0\n",
       "MinTemp           1485\n",
       "MaxTemp           1261\n",
       "Rainfall          3261\n",
       "Evaporation      62790\n",
       "Sunshine         69835\n",
       "WindGustDir      10326\n",
       "WindGustSpeed    10263\n",
       "WindDir9am       10566\n",
       "WindDir3pm        4228\n",
       "WindSpeed9am      1767\n",
       "WindSpeed3pm      3062\n",
       "Humidity9am       2654\n",
       "Humidity3pm       4507\n",
       "Pressure9am      15065\n",
       "Pressure3pm      15028\n",
       "Cloud9am         55888\n",
       "Cloud3pm         59358\n",
       "Temp9am           1767\n",
       "Temp3pm           3609\n",
       "RainToday         3261\n",
       "RainTomorrow      3267\n",
       "dtype: int64"
      ]
     },
     "execution_count": 108,
     "metadata": {},
     "output_type": "execute_result"
    }
   ],
   "source": [
    "df.isnull().sum()"
   ]
  },
  {
   "cell_type": "code",
   "execution_count": 109,
   "metadata": {
    "colab": {
     "base_uri": "https://localhost:8080/"
    },
    "id": "tEpzFxWJ8lI_",
    "outputId": "86dc1b14-e099-4940-e682-ebeedfbfe925"
   },
   "outputs": [
    {
     "data": {
      "text/plain": [
       "Index(['Date', 'Location', 'MinTemp', 'MaxTemp', 'Rainfall', 'Evaporation',\n",
       "       'Sunshine', 'WindGustDir', 'WindGustSpeed', 'WindDir9am', 'WindDir3pm',\n",
       "       'WindSpeed9am', 'WindSpeed3pm', 'Humidity9am', 'Humidity3pm',\n",
       "       'Pressure9am', 'Pressure3pm', 'Cloud9am', 'Cloud3pm', 'Temp9am',\n",
       "       'Temp3pm', 'RainToday', 'RainTomorrow'],\n",
       "      dtype='object')"
      ]
     },
     "execution_count": 109,
     "metadata": {},
     "output_type": "execute_result"
    }
   ],
   "source": [
    "df.columns"
   ]
  },
  {
   "cell_type": "code",
   "execution_count": 110,
   "metadata": {
    "colab": {
     "base_uri": "https://localhost:8080/"
    },
    "id": "sWWRXHk58lKl",
    "outputId": "a6ff0b5e-b284-4e1d-c64d-141193ff99ce"
   },
   "outputs": [
    {
     "data": {
      "text/plain": [
       "No     110316\n",
       "Yes     31877\n",
       "Name: RainTomorrow, dtype: int64"
      ]
     },
     "execution_count": 110,
     "metadata": {},
     "output_type": "execute_result"
    }
   ],
   "source": [
    "df[\"RainTomorrow\"].value_counts()"
   ]
  },
  {
   "cell_type": "code",
   "execution_count": 111,
   "metadata": {
    "id": "_nGJ4JfB8lMX"
   },
   "outputs": [],
   "source": [
    "df = df.fillna(method=\"backfill\").dropna()\n",
    "missing_values = df.isna().sum()"
   ]
  },
  {
   "cell_type": "code",
   "execution_count": 112,
   "metadata": {
    "colab": {
     "base_uri": "https://localhost:8080/"
    },
    "id": "P3zwEAyZ8lOD",
    "outputId": "8770f077-7185-4541-d21b-64899307b748"
   },
   "outputs": [
    {
     "data": {
      "text/plain": [
       "Date             0\n",
       "Location         0\n",
       "MinTemp          0\n",
       "MaxTemp          0\n",
       "Rainfall         0\n",
       "Evaporation      0\n",
       "Sunshine         0\n",
       "WindGustDir      0\n",
       "WindGustSpeed    0\n",
       "WindDir9am       0\n",
       "WindDir3pm       0\n",
       "WindSpeed9am     0\n",
       "WindSpeed3pm     0\n",
       "Humidity9am      0\n",
       "Humidity3pm      0\n",
       "Pressure9am      0\n",
       "Pressure3pm      0\n",
       "Cloud9am         0\n",
       "Cloud3pm         0\n",
       "Temp9am          0\n",
       "Temp3pm          0\n",
       "RainToday        0\n",
       "RainTomorrow     0\n",
       "dtype: int64"
      ]
     },
     "execution_count": 112,
     "metadata": {},
     "output_type": "execute_result"
    }
   ],
   "source": [
    "df.isnull().sum()"
   ]
  },
  {
   "cell_type": "code",
   "execution_count": 113,
   "metadata": {
    "colab": {
     "base_uri": "https://localhost:8080/"
    },
    "id": "O9F_zO90S-Al",
    "outputId": "a424200e-594c-49de-d64a-308421fdc432"
   },
   "outputs": [
    {
     "data": {
      "text/plain": [
       "0"
      ]
     },
     "execution_count": 113,
     "metadata": {},
     "output_type": "execute_result"
    }
   ],
   "source": [
    "df.duplicated().sum()"
   ]
  },
  {
   "cell_type": "code",
   "execution_count": 114,
   "metadata": {
    "colab": {
     "base_uri": "https://localhost:8080/",
     "height": 556
    },
    "id": "Xnc4vVfz8Y_r",
    "outputId": "3c2f57d2-6044-495f-9069-08bdd68c5b20"
   },
   "outputs": [
    {
     "data": {
      "text/plain": [
       "array([[<Axes: title={'center': 'Temp9am'}>,\n",
       "        <Axes: title={'center': 'MinTemp'}>],\n",
       "       [<Axes: title={'center': 'MaxTemp'}>,\n",
       "        <Axes: title={'center': 'Rainfall'}>],\n",
       "       [<Axes: title={'center': 'Humidity9am'}>,\n",
       "        <Axes: title={'center': 'WindSpeed9am'}>]], dtype=object)"
      ]
     },
     "execution_count": 114,
     "metadata": {},
     "output_type": "execute_result"
    },
    {
     "data": {
      "image/png": "[encoded data removed]",
      "text/plain": [
       "<Figure size 640x480 with 6 Axes>"
      ]
     },
     "metadata": {},
     "output_type": "display_data"
    }
   ],
   "source": [
    "numerical = ['Temp9am', 'MinTemp', 'MaxTemp', 'Rainfall', 'Humidity9am', 'WindSpeed9am']\n",
    "df[numerical].hist()"
   ]
  },
  {
   "cell_type": "code",
   "execution_count": 115,
   "metadata": {
    "colab": {
     "base_uri": "https://localhost:8080/",
     "height": 300
    },
    "id": "pRJ1a_62_xTm",
    "outputId": "3c65a0bd-3adc-4a9a-9234-e567859ef69f"
   },
   "outputs": [
    {
     "data": {
      "text/html": [
       "\n",
       "  <div id=\"df-477906d8-7d8a-4ebb-89fd-877643464b79\" class=\"colab-df-container\">\n",
       "    <div>\n",
       "<style scoped>\n",
       "    .dataframe tbody tr th:only-of-type {\n",
       "        vertical-align: middle;\n",
       "    }\n",
       "\n",
       "    .dataframe tbody tr th {\n",
       "        vertical-align: top;\n",
       "    }\n",
       "\n",
       "    .dataframe thead th {\n",
       "        text-align: right;\n",
       "    }\n",
       "</style>\n",
       "<table border=\"1\" class=\"dataframe\">\n",
       "  <thead>\n",
       "    <tr style=\"text-align: right;\">\n",
       "      <th></th>\n",
       "      <th>Temp9am</th>\n",
       "      <th>MinTemp</th>\n",
       "      <th>MaxTemp</th>\n",
       "      <th>Rainfall</th>\n",
       "      <th>Humidity9am</th>\n",
       "      <th>WindSpeed9am</th>\n",
       "    </tr>\n",
       "  </thead>\n",
       "  <tbody>\n",
       "    <tr>\n",
       "      <th>count</th>\n",
       "      <td>142303.000000</td>\n",
       "      <td>142303.000000</td>\n",
       "      <td>142303.000000</td>\n",
       "      <td>142303.000000</td>\n",
       "      <td>142303.000000</td>\n",
       "      <td>142303.000000</td>\n",
       "    </tr>\n",
       "    <tr>\n",
       "      <th>mean</th>\n",
       "      <td>16.802724</td>\n",
       "      <td>12.082433</td>\n",
       "      <td>22.991259</td>\n",
       "      <td>2.503727</td>\n",
       "      <td>69.252496</td>\n",
       "      <td>14.019550</td>\n",
       "    </tr>\n",
       "    <tr>\n",
       "      <th>std</th>\n",
       "      <td>6.413842</td>\n",
       "      <td>6.322760</td>\n",
       "      <td>6.991731</td>\n",
       "      <td>8.759663</td>\n",
       "      <td>18.861281</td>\n",
       "      <td>8.950355</td>\n",
       "    </tr>\n",
       "    <tr>\n",
       "      <th>min</th>\n",
       "      <td>-7.200000</td>\n",
       "      <td>-8.500000</td>\n",
       "      <td>-4.800000</td>\n",
       "      <td>0.000000</td>\n",
       "      <td>0.000000</td>\n",
       "      <td>0.000000</td>\n",
       "    </tr>\n",
       "    <tr>\n",
       "      <th>25%</th>\n",
       "      <td>12.200000</td>\n",
       "      <td>7.600000</td>\n",
       "      <td>17.800000</td>\n",
       "      <td>0.000000</td>\n",
       "      <td>57.000000</td>\n",
       "      <td>7.000000</td>\n",
       "    </tr>\n",
       "    <tr>\n",
       "      <th>50%</th>\n",
       "      <td>16.500000</td>\n",
       "      <td>11.900000</td>\n",
       "      <td>22.400000</td>\n",
       "      <td>0.000000</td>\n",
       "      <td>70.000000</td>\n",
       "      <td>13.000000</td>\n",
       "    </tr>\n",
       "    <tr>\n",
       "      <th>75%</th>\n",
       "      <td>21.300000</td>\n",
       "      <td>16.700000</td>\n",
       "      <td>27.900000</td>\n",
       "      <td>0.800000</td>\n",
       "      <td>83.000000</td>\n",
       "      <td>19.000000</td>\n",
       "    </tr>\n",
       "    <tr>\n",
       "      <th>max</th>\n",
       "      <td>40.200000</td>\n",
       "      <td>33.900000</td>\n",
       "      <td>48.100000</td>\n",
       "      <td>371.000000</td>\n",
       "      <td>100.000000</td>\n",
       "      <td>130.000000</td>\n",
       "    </tr>\n",
       "  </tbody>\n",
       "</table>\n",
       "</div>\n",
       "    <div class=\"colab-df-buttons\">\n",
       "\n",
       "  <div class=\"colab-df-container\">\n",
       "    <button class=\"colab-df-convert\" onclick=\"convertToInteractive('df-477906d8-7d8a-4ebb-89fd-877643464b79')\"\n",
       "            title=\"Convert this dataframe to an interactive table.\"\n",
       "            style=\"display:none;\">\n",
       "\n",
       "  <svg xmlns=\"http://www.w3.org/2000/svg\" height=\"24px\" viewBox=\"0 -960 960 960\">\n",
       "    <path d=\"M120-120v-720h720v720H120Zm60-500h600v-160H180v160Zm220 220h160v-160H400v160Zm0 220h160v-160H400v160ZM180-400h160v-160H180v160Zm440 0h160v-160H620v160ZM180-180h160v-160H180v160Zm440 0h160v-160H620v160Z\"/>\n",
       "  </svg>\n",
       "    </button>\n",
       "\n",
       "  <style>\n",
       "    .colab-df-container {\n",
       "      display:flex;\n",
       "      gap: 12px;\n",
       "    }\n",
       "\n",
       "    .colab-df-convert {\n",
       "      background-color: #E8F0FE;\n",
       "      border: none;\n",
       "      border-radius: 50%;\n",
       "      cursor: pointer;\n",
       "      display: none;\n",
       "      fill: #1967D2;\n",
       "      height: 32px;\n",
       "      padding: 0 0 0 0;\n",
       "      width: 32px;\n",
       "    }\n",
       "\n",
       "    .colab-df-convert:hover {\n",
       "      background-color: #E2EBFA;\n",
       "      box-shadow: 0px 1px 2px rgba(60, 64, 67, 0.3), 0px 1px 3px 1px rgba(60, 64, 67, 0.15);\n",
       "      fill: #174EA6;\n",
       "    }\n",
       "\n",
       "    .colab-df-buttons div {\n",
       "      margin-bottom: 4px;\n",
       "    }\n",
       "\n",
       "    [theme=dark] .colab-df-convert {\n",
       "      background-color: #3B4455;\n",
       "      fill: #D2E3FC;\n",
       "    }\n",
       "\n",
       "    [theme=dark] .colab-df-convert:hover {\n",
       "      background-color: #434B5C;\n",
       "      box-shadow: 0px 1px 3px 1px rgba(0, 0, 0, 0.15);\n",
       "      filter: drop-shadow(0px 1px 2px rgba(0, 0, 0, 0.3));\n",
       "      fill: #FFFFFF;\n",
       "    }\n",
       "  </style>\n",
       "\n",
       "    <script>\n",
       "      const buttonEl =\n",
       "        document.querySelector('#df-477906d8-7d8a-4ebb-89fd-877643464b79 button.colab-df-convert');\n",
       "      buttonEl.style.display =\n",
       "        google.colab.kernel.accessAllowed ? 'block' : 'none';\n",
       "\n",
       "      async function convertToInteractive(key) {\n",
       "        const element = document.querySelector('#df-477906d8-7d8a-4ebb-89fd-877643464b79');\n",
       "        const dataTable =\n",
       "          await google.colab.kernel.invokeFunction('convertToInteractive',\n",
       "                                                    [key], {});\n",
       "        if (!dataTable) return;\n",
       "\n",
       "        const docLinkHtml = 'Like what you see? Visit the ' +\n",
       "          '<a target=\"_blank\" href=https://colab.research.google.com/notebooks/data_table.ipynb>data table notebook</a>'\n",
       "          + ' to learn more about interactive tables.';\n",
       "        element.innerHTML = '';\n",
       "        dataTable['output_type'] = 'display_data';\n",
       "        await google.colab.output.renderOutput(dataTable, element);\n",
       "        const docLink = document.createElement('div');\n",
       "        docLink.innerHTML = docLinkHtml;\n",
       "        element.appendChild(docLink);\n",
       "      }\n",
       "    </script>\n",
       "  </div>\n",
       "\n",
       "\n",
       "<div id=\"df-cef914a9-9460-4a34-82bb-344c454ace07\">\n",
       "  <button class=\"colab-df-quickchart\" onclick=\"quickchart('df-cef914a9-9460-4a34-82bb-344c454ace07')\"\n",
       "            title=\"Suggest charts.\"\n",
       "            style=\"display:none;\">\n",
       "\n",
       "<svg xmlns=\"http://www.w3.org/2000/svg\" height=\"24px\"viewBox=\"0 0 24 24\"\n",
       "     width=\"24px\">\n",
       "    <g>\n",
       "        <path d=\"M19 3H5c-1.1 0-2 .9-2 2v14c0 1.1.9 2 2 2h14c1.1 0 2-.9 2-2V5c0-1.1-.9-2-2-2zM9 17H7v-7h2v7zm4 0h-2V7h2v10zm4 0h-2v-4h2v4z\"/>\n",
       "    </g>\n",
       "</svg>\n",
       "  </button>\n",
       "\n",
       "<style>\n",
       "  .colab-df-quickchart {\n",
       "      --bg-color: #E8F0FE;\n",
       "      --fill-color: #1967D2;\n",
       "      --hover-bg-color: #E2EBFA;\n",
       "      --hover-fill-color: #174EA6;\n",
       "      --disabled-fill-color: #AAA;\n",
       "      --disabled-bg-color: #DDD;\n",
       "  }\n",
       "\n",
       "  [theme=dark] .colab-df-quickchart {\n",
       "      --bg-color: #3B4455;\n",
       "      --fill-color: #D2E3FC;\n",
       "      --hover-bg-color: #434B5C;\n",
       "      --hover-fill-color: #FFFFFF;\n",
       "      --disabled-bg-color: #3B4455;\n",
       "      --disabled-fill-color: #666;\n",
       "  }\n",
       "\n",
       "  .colab-df-quickchart {\n",
       "    background-color: var(--bg-color);\n",
       "    border: none;\n",
       "    border-radius: 50%;\n",
       "    cursor: pointer;\n",
       "    display: none;\n",
       "    fill: var(--fill-color);\n",
       "    height: 32px;\n",
       "    padding: 0;\n",
       "    width: 32px;\n",
       "  }\n",
       "\n",
       "  .colab-df-quickchart:hover {\n",
       "    background-color: var(--hover-bg-color);\n",
       "    box-shadow: 0 1px 2px rgba(60, 64, 67, 0.3), 0 1px 3px 1px rgba(60, 64, 67, 0.15);\n",
       "    fill: var(--button-hover-fill-color);\n",
       "  }\n",
       "\n",
       "  .colab-df-quickchart-complete:disabled,\n",
       "  .colab-df-quickchart-complete:disabled:hover {\n",
       "    background-color: var(--disabled-bg-color);\n",
       "    fill: var(--disabled-fill-color);\n",
       "    box-shadow: none;\n",
       "  }\n",
       "\n",
       "  .colab-df-spinner {\n",
       "    border: 2px solid var(--fill-color);\n",
       "    border-color: transparent;\n",
       "    border-bottom-color: var(--fill-color);\n",
       "    animation:\n",
       "      spin 1s steps(1) infinite;\n",
       "  }\n",
       "\n",
       "  @keyframes spin {\n",
       "    0% {\n",
       "      border-color: transparent;\n",
       "      border-bottom-color: var(--fill-color);\n",
       "      border-left-color: var(--fill-color);\n",
       "    }\n",
       "    20% {\n",
       "      border-color: transparent;\n",
       "      border-left-color: var(--fill-color);\n",
       "      border-top-color: var(--fill-color);\n",
       "    }\n",
       "    30% {\n",
       "      border-color: transparent;\n",
       "      border-left-color: var(--fill-color);\n",
       "      border-top-color: var(--fill-color);\n",
       "      border-right-color: var(--fill-color);\n",
       "    }\n",
       "    40% {\n",
       "      border-color: transparent;\n",
       "      border-right-color: var(--fill-color);\n",
       "      border-top-color: var(--fill-color);\n",
       "    }\n",
       "    60% {\n",
       "      border-color: transparent;\n",
       "      border-right-color: var(--fill-color);\n",
       "    }\n",
       "    80% {\n",
       "      border-color: transparent;\n",
       "      border-right-color: var(--fill-color);\n",
       "      border-bottom-color: var(--fill-color);\n",
       "    }\n",
       "    90% {\n",
       "      border-color: transparent;\n",
       "      border-bottom-color: var(--fill-color);\n",
       "    }\n",
       "  }\n",
       "</style>\n",
       "\n",
       "  <script>\n",
       "    async function quickchart(key) {\n",
       "      const quickchartButtonEl =\n",
       "        document.querySelector('#' + key + ' button');\n",
       "      quickchartButtonEl.disabled = true;  // To prevent multiple clicks.\n",
       "      quickchartButtonEl.classList.add('colab-df-spinner');\n",
       "      try {\n",
       "        const charts = await google.colab.kernel.invokeFunction(\n",
       "            'suggestCharts', [key], {});\n",
       "      } catch (error) {\n",
       "        console.error('Error during call to suggestCharts:', error);\n",
       "      }\n",
       "      quickchartButtonEl.classList.remove('colab-df-spinner');\n",
       "      quickchartButtonEl.classList.add('colab-df-quickchart-complete');\n",
       "    }\n",
       "    (() => {\n",
       "      let quickchartButtonEl =\n",
       "        document.querySelector('#df-cef914a9-9460-4a34-82bb-344c454ace07 button');\n",
       "      quickchartButtonEl.style.display =\n",
       "        google.colab.kernel.accessAllowed ? 'block' : 'none';\n",
       "    })();\n",
       "  </script>\n",
       "</div>\n",
       "    </div>\n",
       "  </div>\n"
      ],
      "text/plain": [
       "             Temp9am        MinTemp        MaxTemp       Rainfall  \\\n",
       "count  142303.000000  142303.000000  142303.000000  142303.000000   \n",
       "mean       16.802724      12.082433      22.991259       2.503727   \n",
       "std         6.413842       6.322760       6.991731       8.759663   \n",
       "min        -7.200000      -8.500000      -4.800000       0.000000   \n",
       "25%        12.200000       7.600000      17.800000       0.000000   \n",
       "50%        16.500000      11.900000      22.400000       0.000000   \n",
       "75%        21.300000      16.700000      27.900000       0.800000   \n",
       "max        40.200000      33.900000      48.100000     371.000000   \n",
       "\n",
       "         Humidity9am   WindSpeed9am  \n",
       "count  142303.000000  142303.000000  \n",
       "mean       69.252496      14.019550  \n",
       "std        18.861281       8.950355  \n",
       "min         0.000000       0.000000  \n",
       "25%        57.000000       7.000000  \n",
       "50%        70.000000      13.000000  \n",
       "75%        83.000000      19.000000  \n",
       "max       100.000000     130.000000  "
      ]
     },
     "execution_count": 115,
     "metadata": {},
     "output_type": "execute_result"
    }
   ],
   "source": [
    "df[numerical].describe()"
   ]
  },
  {
   "cell_type": "code",
   "execution_count": 116,
   "metadata": {
    "id": "li62kPHJ_xUx"
   },
   "outputs": [],
   "source": [
    "df['RainToday'].replace({'No': 0, 'Yes': 1}, inplace = True)\n",
    "df['RainTomorrow'].replace({'No': 0, 'Yes': 1}, inplace = True)"
   ]
  },
  {
   "cell_type": "code",
   "execution_count": 117,
   "metadata": {
    "colab": {
     "base_uri": "https://localhost:8080/"
    },
    "id": "UT5VsnXu_xW9",
    "outputId": "9fbffbc9-29be-4126-8138-1b16598415c3"
   },
   "outputs": [
    {
     "data": {
      "text/plain": [
       "Index(['Date', 'Location', 'MinTemp', 'MaxTemp', 'Rainfall', 'Evaporation',\n",
       "       'Sunshine', 'WindGustDir', 'WindGustSpeed', 'WindDir9am', 'WindDir3pm',\n",
       "       'WindSpeed9am', 'WindSpeed3pm', 'Humidity9am', 'Humidity3pm',\n",
       "       'Pressure9am', 'Pressure3pm', 'Cloud9am', 'Cloud3pm', 'Temp9am',\n",
       "       'Temp3pm', 'RainToday', 'RainTomorrow'],\n",
       "      dtype='object')"
      ]
     },
     "execution_count": 117,
     "metadata": {},
     "output_type": "execute_result"
    }
   ],
   "source": [
    "df.columns"
   ]
  },
  {
   "cell_type": "code",
   "execution_count": 118,
   "metadata": {
    "id": "6d8EkNzJ_xYS"
   },
   "outputs": [],
   "source": [
    "le = preprocessing.LabelEncoder()\n",
    "df['Location'] = le.fit_transform(df['Location'])"
   ]
  },
  {
   "cell_type": "code",
   "execution_count": 119,
   "metadata": {
    "id": "Mvtfh3k5AvbG"
   },
   "outputs": [],
   "source": [
    "df['Date'] = df['Date'].apply(lambda x: datetime.strptime(x, '%Y-%m-%d'))\n",
    "df['Year'] = df['Date'].dt.year\n",
    "df['Month'] = df['Date'].dt.month\n",
    "df['Day'] = df['Date'].dt.day"
   ]
  },
  {
   "cell_type": "code",
   "execution_count": 120,
   "metadata": {
    "id": "L7BMppLp8ZG1"
   },
   "outputs": [],
   "source": [
    "X = df[['Temp9am', 'MinTemp', 'MaxTemp', 'Rainfall', 'Humidity9am', 'WindSpeed9am', 'RainToday', 'Location', 'Year', 'Month', 'Day']]\n",
    "y = df[['RainTomorrow']]"
   ]
  },
  {
   "cell_type": "code",
   "execution_count": 121,
   "metadata": {
    "id": "gpiznHPtAoUj"
   },
   "outputs": [],
   "source": [
    "X_train, X_test, y_train, y_test = train_test_split(X, y, test_size=0.2, random_state=42,stratify=y)\n"
   ]
  },
  {
   "cell_type": "code",
   "execution_count": 122,
   "metadata": {
    "id": "ygf480l4AoVy"
   },
   "outputs": [],
   "source": [
    "from imblearn.over_sampling import ADASYN\n",
    "adasyn=ADASYN(sampling_strategy=\"minority\",random_state=42)"
   ]
  },
  {
   "cell_type": "code",
   "execution_count": 123,
   "metadata": {
    "id": "ikV3PqSIBVLK"
   },
   "outputs": [],
   "source": [
    "X_train_resampled, y_train_resampled = adasyn.fit_resample(X_train, y_train)\n"
   ]
  },
  {
   "cell_type": "code",
   "execution_count": 124,
   "metadata": {
    "colab": {
     "base_uri": "https://localhost:8080/"
    },
    "id": "X6sUDEBvSu36",
    "outputId": "ced8112d-0c77-41e8-c9e1-253748134d5f"
   },
   "outputs": [
    {
     "data": {
      "text/plain": [
       "RainTomorrow\n",
       "1               89552\n",
       "0               87163\n",
       "dtype: int64"
      ]
     },
     "execution_count": 124,
     "metadata": {},
     "output_type": "execute_result"
    }
   ],
   "source": [
    "y_train_resampled.value_counts()"
   ]
  },
  {
   "cell_type": "code",
   "execution_count": 125,
   "metadata": {
    "id": "huwEq6f4BVMw"
   },
   "outputs": [],
   "source": [
    "from sklearn.preprocessing import StandardScaler\n",
    "scaler = StandardScaler()\n",
    "X_train_scaled = scaler.fit_transform(X_train_resampled)\n",
    "X_test_scaled = scaler.transform(X_test)"
   ]
  },
  {
   "cell_type": "code",
   "execution_count": 126,
   "metadata": {
    "id": "HDvIRBtQBVOx"
   },
   "outputs": [],
   "source": [
    "import torch\n",
    "import torch.nn as nn\n",
    "import torch.nn.functional as F\n",
    "import torch.optim as optim\n",
    "from torch.utils.data import TensorDataset, DataLoader"
   ]
  },
  {
   "cell_type": "code",
   "execution_count": 127,
   "metadata": {
    "id": "WWx2kbekGtzf"
   },
   "outputs": [],
   "source": [
    "y_train_resampled = y_train_resampled.to_numpy(dtype=np.float32)\n",
    "\n",
    "y_test = y_test.to_numpy(dtype=np.float32)\n",
    "\n",
    "X_train = torch.from_numpy(X_train_scaled).float()\n",
    "y_train = torch.from_numpy(y_train_resampled).float()\n",
    "X_test = torch.from_numpy(X_test_scaled).float()\n",
    "y_test = torch.from_numpy(y_test).float()"
   ]
  },
  {
   "cell_type": "code",
   "execution_count": 128,
   "metadata": {
    "colab": {
     "base_uri": "https://localhost:8080/"
    },
    "id": "asRihDRRTzEf",
    "outputId": "7a30ec7a-b72d-4238-cd72-3c386300c0c1"
   },
   "outputs": [
    {
     "name": "stdout",
     "output_type": "stream",
     "text": [
      "Epoch [1/20], Loss: 0.6428\n",
      "Epoch [2/20], Loss: 0.6809\n",
      "Epoch [3/20], Loss: 0.4800\n",
      "Epoch [4/20], Loss: 0.4951\n",
      "Epoch [5/20], Loss: 0.7787\n",
      "Epoch [6/20], Loss: 0.5610\n",
      "Epoch [7/20], Loss: 0.5702\n",
      "Epoch [8/20], Loss: 0.8712\n",
      "Epoch [9/20], Loss: 0.6140\n",
      "Epoch [10/20], Loss: 0.4170\n",
      "Epoch [11/20], Loss: 0.3104\n",
      "Epoch [12/20], Loss: 0.7214\n",
      "Epoch [13/20], Loss: 0.6240\n",
      "Epoch [14/20], Loss: 0.5078\n",
      "Epoch [15/20], Loss: 0.4740\n",
      "Epoch [16/20], Loss: 0.6956\n",
      "Epoch [17/20], Loss: 0.5958\n",
      "Epoch [18/20], Loss: 0.4466\n",
      "Epoch [19/20], Loss: 0.5664\n",
      "Epoch [20/20], Loss: 0.5674\n",
      "Test Accuracy: 70.33%\n",
      "Epoch [1/20], Loss: 0.5560\n",
      "Epoch [2/20], Loss: 0.7190\n",
      "Epoch [3/20], Loss: 0.6544\n",
      "Epoch [4/20], Loss: 0.5340\n",
      "Epoch [5/20], Loss: 0.8354\n",
      "Epoch [6/20], Loss: 0.6170\n",
      "Epoch [7/20], Loss: 0.5597\n",
      "Epoch [8/20], Loss: 0.5911\n",
      "Epoch [9/20], Loss: 0.4495\n",
      "Epoch [10/20], Loss: 0.6455\n",
      "Epoch [11/20], Loss: 0.6352\n",
      "Epoch [12/20], Loss: 0.4997\n",
      "Epoch [13/20], Loss: 0.7902\n",
      "Epoch [14/20], Loss: 0.5835\n",
      "Epoch [15/20], Loss: 0.4845\n",
      "Epoch [16/20], Loss: 0.5670\n",
      "Epoch [17/20], Loss: 0.5293\n",
      "Epoch [18/20], Loss: 0.4970\n",
      "Epoch [19/20], Loss: 0.7330\n",
      "Epoch [20/20], Loss: 0.6630\n",
      "Test Accuracy: 66.78%\n",
      "Epoch [1/20], Loss: 0.4415\n",
      "Epoch [2/20], Loss: 0.4375\n",
      "Epoch [3/20], Loss: 0.5614\n",
      "Epoch [4/20], Loss: 0.5476\n",
      "Epoch [5/20], Loss: 0.4622\n",
      "Epoch [6/20], Loss: 0.5283\n",
      "Epoch [7/20], Loss: 0.6302\n",
      "Epoch [8/20], Loss: 0.4779\n",
      "Epoch [9/20], Loss: 0.6273\n",
      "Epoch [10/20], Loss: 0.5495\n",
      "Epoch [11/20], Loss: 0.7047\n",
      "Epoch [12/20], Loss: 0.5848\n",
      "Epoch [13/20], Loss: 0.9492\n",
      "Epoch [14/20], Loss: 0.5989\n",
      "Epoch [15/20], Loss: 0.5286\n",
      "Epoch [16/20], Loss: 0.4972\n",
      "Epoch [17/20], Loss: 0.6015\n",
      "Epoch [18/20], Loss: 0.6083\n",
      "Epoch [19/20], Loss: 0.7012\n",
      "Epoch [20/20], Loss: 0.4521\n",
      "Test Accuracy: 70.02%\n",
      "Epoch [1/20], Loss: 0.7978\n",
      "Epoch [2/20], Loss: 0.6606\n",
      "Epoch [3/20], Loss: 0.4934\n",
      "Epoch [4/20], Loss: 0.6185\n",
      "Epoch [5/20], Loss: 0.9374\n",
      "Epoch [6/20], Loss: 0.7329\n",
      "Epoch [7/20], Loss: 0.5036\n",
      "Epoch [8/20], Loss: 0.6436\n",
      "Epoch [9/20], Loss: 0.4004\n",
      "Epoch [10/20], Loss: 0.6531\n",
      "Epoch [11/20], Loss: 0.6739\n",
      "Epoch [12/20], Loss: 0.8975\n",
      "Epoch [13/20], Loss: 0.4005\n",
      "Epoch [14/20], Loss: 0.5162\n",
      "Epoch [15/20], Loss: 0.5565\n",
      "Epoch [16/20], Loss: 0.5741\n",
      "Epoch [17/20], Loss: 0.5793\n",
      "Epoch [18/20], Loss: 0.6084\n",
      "Epoch [19/20], Loss: 0.5915\n",
      "Epoch [20/20], Loss: 0.6541\n",
      "Test Accuracy: 66.87%\n",
      "Epoch [1/20], Loss: 0.5195\n",
      "Epoch [2/20], Loss: 0.3513\n",
      "Epoch [3/20], Loss: 0.7569\n",
      "Epoch [4/20], Loss: 0.5762\n",
      "Epoch [5/20], Loss: 0.5434\n",
      "Epoch [6/20], Loss: 0.4833\n",
      "Epoch [7/20], Loss: 0.5044\n",
      "Epoch [8/20], Loss: 0.5989\n",
      "Epoch [9/20], Loss: 0.7123\n",
      "Epoch [10/20], Loss: 0.5764\n",
      "Epoch [11/20], Loss: 0.5151\n",
      "Epoch [12/20], Loss: 0.5712\n",
      "Epoch [13/20], Loss: 0.4815\n",
      "Epoch [14/20], Loss: 0.5729\n",
      "Epoch [15/20], Loss: 0.6892\n",
      "Epoch [16/20], Loss: 0.6658\n",
      "Epoch [17/20], Loss: 0.6348\n",
      "Epoch [18/20], Loss: 0.9488\n",
      "Epoch [19/20], Loss: 0.7055\n",
      "Epoch [20/20], Loss: 0.4693\n",
      "Test Accuracy: 69.55%\n",
      "Epoch [1/20], Loss: 0.5867\n",
      "Epoch [2/20], Loss: 0.6302\n",
      "Epoch [3/20], Loss: 0.6431\n",
      "Epoch [4/20], Loss: 0.7034\n",
      "Epoch [5/20], Loss: 0.4252\n",
      "Epoch [6/20], Loss: 0.8948\n",
      "Epoch [7/20], Loss: 0.4723\n",
      "Epoch [8/20], Loss: 0.5365\n",
      "Epoch [9/20], Loss: 0.6451\n",
      "Epoch [10/20], Loss: 0.5117\n",
      "Epoch [11/20], Loss: 0.4486\n",
      "Epoch [12/20], Loss: 0.4571\n",
      "Epoch [13/20], Loss: 0.6879\n",
      "Epoch [14/20], Loss: 0.5468\n",
      "Epoch [15/20], Loss: 0.5190\n",
      "Epoch [16/20], Loss: 0.6851\n",
      "Epoch [17/20], Loss: 0.7503\n",
      "Epoch [18/20], Loss: 0.6145\n",
      "Epoch [19/20], Loss: 0.6868\n",
      "Epoch [20/20], Loss: 0.6164\n",
      "Test Accuracy: 68.66%\n",
      "Epoch [1/20], Loss: 0.7588\n",
      "Epoch [2/20], Loss: 0.5488\n",
      "Epoch [3/20], Loss: 0.7098\n",
      "Epoch [4/20], Loss: 0.7941\n",
      "Epoch [5/20], Loss: 0.3187\n",
      "Epoch [6/20], Loss: 0.4398\n",
      "Epoch [7/20], Loss: 0.7428\n",
      "Epoch [8/20], Loss: 0.4297\n",
      "Epoch [9/20], Loss: 0.4888\n",
      "Epoch [10/20], Loss: 0.3447\n",
      "Epoch [11/20], Loss: 0.4115\n",
      "Epoch [12/20], Loss: 0.6435\n",
      "Epoch [13/20], Loss: 0.4401\n",
      "Epoch [14/20], Loss: 0.7622\n",
      "Epoch [15/20], Loss: 0.5936\n",
      "Epoch [16/20], Loss: 0.5076\n",
      "Epoch [17/20], Loss: 0.6604\n",
      "Epoch [18/20], Loss: 0.7575\n",
      "Epoch [19/20], Loss: 0.4292\n",
      "Epoch [20/20], Loss: 0.5868\n",
      "Test Accuracy: 67.23%\n",
      "Epoch [1/20], Loss: 0.6011\n",
      "Epoch [2/20], Loss: 0.5470\n",
      "Epoch [3/20], Loss: 0.6623\n",
      "Epoch [4/20], Loss: 0.5207\n",
      "Epoch [5/20], Loss: 0.9738\n",
      "Epoch [6/20], Loss: 0.6906\n",
      "Epoch [7/20], Loss: 0.7717\n",
      "Epoch [8/20], Loss: 0.5490\n",
      "Epoch [9/20], Loss: 0.5872\n",
      "Epoch [10/20], Loss: 0.6849\n",
      "Epoch [11/20], Loss: 0.4134\n",
      "Epoch [12/20], Loss: 0.4348\n",
      "Epoch [13/20], Loss: 0.6354\n",
      "Epoch [14/20], Loss: 0.6486\n",
      "Epoch [15/20], Loss: 0.6711\n",
      "Epoch [16/20], Loss: 0.6505\n",
      "Epoch [17/20], Loss: 0.4706\n",
      "Epoch [18/20], Loss: 0.5675\n",
      "Epoch [19/20], Loss: 0.5891\n",
      "Epoch [20/20], Loss: 0.3784\n",
      "Test Accuracy: 68.37%\n",
      "Epoch [1/20], Loss: 0.7717\n",
      "Epoch [2/20], Loss: 0.6814\n",
      "Epoch [3/20], Loss: 0.5896\n",
      "Epoch [4/20], Loss: 0.4324\n",
      "Epoch [5/20], Loss: 0.5307\n",
      "Epoch [6/20], Loss: 0.6736\n",
      "Epoch [7/20], Loss: 0.7078\n",
      "Epoch [8/20], Loss: 0.6731\n",
      "Epoch [9/20], Loss: 0.6528\n",
      "Epoch [10/20], Loss: 0.6400\n",
      "Epoch [11/20], Loss: 0.6073\n",
      "Epoch [12/20], Loss: 0.6466\n",
      "Epoch [13/20], Loss: 0.4886\n",
      "Epoch [14/20], Loss: 0.4068\n",
      "Epoch [15/20], Loss: 0.5061\n",
      "Epoch [16/20], Loss: 0.4017\n",
      "Epoch [17/20], Loss: 0.6697\n",
      "Epoch [18/20], Loss: 0.7872\n",
      "Epoch [19/20], Loss: 0.7049\n",
      "Epoch [20/20], Loss: 0.6170\n",
      "Test Accuracy: 69.51%\n"
     ]
    }
   ],
   "source": [
    "import torch\n",
    "import torch.nn as nn\n",
    "import torch.optim as optim\n",
    "from torch.utils.data import TensorDataset, DataLoader\n",
    "\n",
    "\n",
    "class ImprovedBinaryClassifier(nn.Module):\n",
    "    def __init__(self, input_size, hidden_size, dropout_prob):\n",
    "        super(ImprovedBinaryClassifier, self).__init__()\n",
    "        self.fc1 = nn.Linear(input_size, hidden_size)\n",
    "        self.bn1 = nn.BatchNorm1d(hidden_size)\n",
    "        self.relu = nn.ReLU()\n",
    "        self.dropout = nn.Dropout(dropout_prob)\n",
    "        self.fc2 = nn.Linear(hidden_size, 1)\n",
    "\n",
    "    def forward(self, x):\n",
    "        out = self.fc1(x)\n",
    "        out = self.bn1(out)\n",
    "        out = self.relu(out)\n",
    "        out = self.dropout(out)\n",
    "        out = self.fc2(out)\n",
    "        return out\n",
    "\n",
    "# Hyperparameters\n",
    "input_size = X_train.shape[1]\n",
    "hidden_size = 128\n",
    "dropout_prob = 0.5\n",
    "learning_rate = 0.001\n",
    "weight_decay = 0.001\n",
    "num_epochs = 20\n",
    "\n",
    "\n",
    "train_dataset = TensorDataset(X_train, y_train)\n",
    "train_loader = DataLoader(train_dataset, batch_size=64, shuffle=True)\n",
    "\n",
    "\n",
    "best_accuracy = 0\n",
    "best_model_state = None\n",
    "\n",
    "for hidden_size in [64, 128, 256]:\n",
    "    for dropout_prob in [0.3, 0.5, 0.7]:\n",
    "\n",
    "        model = ImprovedBinaryClassifier(input_size, hidden_size, dropout_prob)\n",
    "\n",
    "\n",
    "        criterion = nn.BCEWithLogitsLoss()\n",
    "        optimizer = optim.Adam(model.parameters(), lr=learning_rate, weight_decay=weight_decay)\n",
    "\n",
    "\n",
    "        for epoch in range(num_epochs):\n",
    "            model.train()\n",
    "            for inputs, labels in train_loader:\n",
    "                optimizer.zero_grad()\n",
    "                outputs = model(inputs)\n",
    "                loss = criterion(outputs, labels.view(-1, 1).float())\n",
    "                loss.backward()\n",
    "                optimizer.step()\n",
    "\n",
    "\n",
    "            print(f'Epoch [{epoch+1}/{num_epochs}], Loss: {loss.item():.4f}')\n",
    "\n",
    "\n",
    "        model.eval()\n",
    "        with torch.no_grad():\n",
    "            test_outputs = model(X_test)\n",
    "            predictions = torch.sigmoid(test_outputs)\n",
    "            predicted_labels = (predictions >= 0.5).float()\n",
    "            accuracy = torch.mean((predicted_labels == y_test.view(-1, 1).float()).float()) * 100\n",
    "\n",
    "            print(f'Test Accuracy: {accuracy.item():.2f}%')\n",
    "\n",
    "\n",
    "        if accuracy > best_accuracy:\n",
    "            best_accuracy = accuracy\n",
    "            best_model_state = model.state_dict()\n",
    "\n",
    "\n",
    "if best_model_state is not None:\n",
    "    torch.save(best_model_state, 'best_binary_classifier.ckpt')\n"
   ]
  },
  {
   "cell_type": "code",
   "execution_count": 129,
   "metadata": {
    "colab": {
     "base_uri": "https://localhost:8080/"
    },
    "id": "LjcmZlYWYKUK",
    "outputId": "7f60a493-0291-4c5e-b536-c7d6fc907e79"
   },
   "outputs": [
    {
     "name": "stdout",
     "output_type": "stream",
     "text": [
      "Accuracy: 0.70\n",
      "F1 Score: 0.53\n",
      "Recall: 0.72\n",
      "Classification Report:\n",
      "              precision    recall  f1-score   support\n",
      "\n",
      "         0.0       0.89      0.69      0.78     21791\n",
      "         1.0       0.41      0.72      0.53      6670\n",
      "\n",
      "    accuracy                           0.70     28461\n",
      "   macro avg       0.65      0.70      0.65     28461\n",
      "weighted avg       0.78      0.70      0.72     28461\n",
      "\n"
     ]
    }
   ],
   "source": [
    "from sklearn.metrics import classification_report, f1_score, accuracy_score, recall_score\n",
    "\n",
    "accuracy = accuracy_score(y_test, predicted_labels)\n",
    "f1 = f1_score(y_test, predicted_labels)\n",
    "recall = recall_score(y_test, predicted_labels)\n",
    "report = classification_report(y_test, predicted_labels)\n",
    "\n",
    "print(f'Accuracy: {accuracy:.2f}')\n",
    "print(f'F1 Score: {f1:.2f}')\n",
    "print(f'Recall: {recall:.2f}')\n",
    "print('Classification Report:')\n",
    "print(report)\n"
   ]
  }
 ],
 "metadata": {
  "colab": {
   "provenance": []
  },
  "kernelspec": {
   "display_name": "Python 3 (ipykernel)",
   "language": "python",
   "name": "python3"
  },
  "language_info": {
   "codemirror_mode": {
    "name": "ipython",
    "version": 3
   },
   "file_extension": ".py",
   "mimetype": "text/x-python",
   "name": "python",
   "nbconvert_exporter": "python",
   "pygments_lexer": "ipython3",
   "version": "3.11.3"
  }
 },
 "nbformat": 4,
 "nbformat_minor": 4
}
